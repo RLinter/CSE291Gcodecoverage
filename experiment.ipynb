{
 "cells": [
  {
   "cell_type": "code",
   "execution_count": 1,
   "metadata": {},
   "outputs": [],
   "source": [
    "import coverage"
   ]
  },
  {
   "cell_type": "markdown",
   "metadata": {},
   "source": [
    "## Set API Key"
   ]
  },
  {
   "cell_type": "code",
   "execution_count": 9,
   "metadata": {},
   "outputs": [
    {
     "name": "stdout",
     "output_type": "stream",
     "text": [
      "env: OPENAI_API_KEY=sk-proj-2bukD0FHxc5cMV1KaW90T3BlbkFJ6nfZBZlPJc9SnImkUysE\n"
     ]
    }
   ],
   "source": [
    "%env OPENAI_API_KEY=sk-proj-2bukD0FHxc5cMV1KaW90T3BlbkFJ6nfZBZlPJc9SnImkUysE"
   ]
  },
  {
   "cell_type": "markdown",
   "metadata": {},
   "source": [
    "## Coverage Report"
   ]
  },
  {
   "cell_type": "code",
   "execution_count": 2,
   "metadata": {},
   "outputs": [
    {
     "name": "stdout",
     "output_type": "stream",
     "text": [
      "\u001b[1m============================= test session starts ==============================\u001b[0m\n",
      "platform darwin -- Python 3.9.12, pytest-7.1.1, pluggy-1.0.0\n",
      "rootdir: /Users/rui/Documents/GitHub/CSE291Gcodecoverage\n",
      "plugins: anyio-3.5.0\n",
      "collected 3 items                                                              \u001b[0m\n",
      "\n",
      "test_main.py \u001b[32m.\u001b[0m\u001b[32m.\u001b[0m\u001b[32m.\u001b[0m\u001b[32m                                                         [100%]\u001b[0m\n",
      "\n",
      "\u001b[32m============================== \u001b[32m\u001b[1m3 passed\u001b[0m\u001b[32m in 0.01s\u001b[0m\u001b[32m ===============================\u001b[0m\n",
      "Name           Stmts   Miss  Cover   Missing\n",
      "--------------------------------------------\n",
      "main.py           21      7    67%   16-19, 23, 26-27\n",
      "test_main.py      16      0   100%\n",
      "--------------------------------------------\n",
      "TOTAL             37      7    81%\n"
     ]
    }
   ],
   "source": [
    "!coverage run -m pytest test_main.py\n",
    "!coverage report -m"
   ]
  },
  {
   "cell_type": "code",
   "execution_count": 3,
   "metadata": {},
   "outputs": [
    {
     "data": {
      "text/plain": [
       "[16, 17, 18, 19, 23, 26, 27]"
      ]
     },
     "execution_count": 3,
     "metadata": {},
     "output_type": "execute_result"
    }
   ],
   "source": [
    "cov = coverage.Coverage()\n",
    "cov.load()\n",
    "cov.analysis('main.py')[2]"
   ]
  },
  {
   "cell_type": "markdown",
   "metadata": {},
   "source": [
    "## Get Code"
   ]
  },
  {
   "cell_type": "code",
   "execution_count": 4,
   "metadata": {},
   "outputs": [
    {
     "name": "stdout",
     "output_type": "stream",
     "text": [
      "{1: 'from dataclasses import dataclass', 2: '', 3: '@dataclass()', 4: 'class Product:', 5: '', 6: '    id: int', 7: '    name: str', 8: '    price: float', 9: '    stock: int', 10: '', 11: '    def increase_stock(self, stock_to_add: int):', 12: '        self.check_positive_number(stock_to_add)', 13: '        self.stock: int = self.stock + stock_to_add', 14: '', 15: '    def decrease_stock(self, stock_to_reduce):', 16: '        self.check_positive_number(stock_to_reduce)', 17: '        new_stock = self.stock - stock_to_reduce', 18: '        self.check_negative_stock(new_stock)', 19: '        self.stock = self.stock - stock_to_reduce', 20: '', 21: '    def check_positive_number(self, value):', 22: '        if value <= 0:', 23: '            raise Exception(\"Number must be positive\")', 24: '', 25: '    def check_negative_stock(self, value):', 26: '        if value < 0:', 27: '            raise Exception(\"Stock must be greater than or equal to 0\")', 28: ''}\n"
     ]
    }
   ],
   "source": [
    "code = {}\n",
    "with open('main.py') as f:\n",
    "    for i, line in enumerate(f, 1):\n",
    "        # get line until newline character\n",
    "        line = line.rstrip()\n",
    "        code[i] = line\n",
    "print(code)"
   ]
  },
  {
   "cell_type": "code",
   "execution_count": 5,
   "metadata": {},
   "outputs": [
    {
     "name": "stdout",
     "output_type": "stream",
     "text": [
      "{1: 'from main import Product', 2: 'from dataclasses import is_dataclass', 3: 'import pytest', 4: '', 5: 'def test_if_it_is_a_dataclass():', 6: '    assert is_dataclass(Product) == True', 7: '', 8: '', 9: '@pytest.fixture', 10: 'def product():', 11: \"    return Product(1, 'foo', 1.0, 10)\", 12: '', 13: '', 14: 'def test_constructor(product):', 15: '    assert product.id == 1', 16: \"    assert product.name == 'foo'\", 17: '    assert product.price == 1.0', 18: '    assert product.stock == 10', 19: '', 20: '', 21: 'def test_increase_stock(product):', 22: '    product.increase_stock(10)', 23: '    assert product.stock == 20'}\n"
     ]
    }
   ],
   "source": [
    "test_code = {}\n",
    "with open('test_main.py') as f:\n",
    "    for i, line in enumerate(f, 1):\n",
    "        # get line until newline character\n",
    "        line = line.rstrip()\n",
    "        test_code[i] = line\n",
    "print(test_code)"
   ]
  },
  {
   "cell_type": "code",
   "execution_count": 6,
   "metadata": {},
   "outputs": [],
   "source": [
    "code_txt = \"\\n\".join(code.values())\n",
    "test_code_txt = \"\\n\".join(test_code.values())"
   ]
  },
  {
   "cell_type": "code",
   "execution_count": 7,
   "metadata": {},
   "outputs": [],
   "source": [
    "# aggregate missing lines according to the coverage report\n",
    "missing_lines = []\n",
    "for line in cov.analysis('main.py')[2]:\n",
    "    missing_lines.append(code[line])\n",
    "missing_lines_txt = \"\\n\".join(missing_lines)"
   ]
  },
  {
   "cell_type": "markdown",
   "metadata": {},
   "source": [
    "## Baseline: given code and a test example, generate test case (GPT 4-o)"
   ]
  },
  {
   "cell_type": "code",
   "execution_count": 10,
   "metadata": {},
   "outputs": [],
   "source": [
    "from openai import OpenAI\n",
    "client = OpenAI()"
   ]
  },
  {
   "cell_type": "code",
   "execution_count": 11,
   "metadata": {},
   "outputs": [
    {
     "name": "stdout",
     "output_type": "stream",
     "text": [
      "Given the following code, generate test cases. Only respond with code that is valid Python code starting with code: from main import Product from dataclasses import is_dataclass import pytest @pytest.fixture def product(): return Product(1, 'foo', 1.0, 10) def test_constructor(product): assert product.id == 1 assert product.name == 'foo'\n"
     ]
    }
   ],
   "source": [
    "gpt_prompt = \"Given the following code, generate test cases. Only respond with code that is valid Python code starting with code: from main import Product from dataclasses import is_dataclass import pytest @pytest.fixture def product(): return Product(1, 'foo', 1.0, 10) def test_constructor(product): assert product.id == 1 assert product.name == 'foo'\"\n",
    "print(gpt_prompt)"
   ]
  },
  {
   "cell_type": "code",
   "execution_count": 12,
   "metadata": {},
   "outputs": [],
   "source": [
    "message=[{\"role\": \"system\", \"content\": \"You are a helpful programmer writing test.py.\"},{\"role\": \"assistant\", \"content\": gpt_prompt + \"\\n\" + \"\\n\".join(code.values())}]\n",
    "\n",
    "\n",
    "response = client.chat.completions.create(\n",
    "    model=\"gpt-4o\",\n",
    "    messages = message,\n",
    ")\n",
    "# print(response.choices[0].message)"
   ]
  },
  {
   "cell_type": "code",
   "execution_count": 13,
   "metadata": {},
   "outputs": [
    {
     "data": {
      "text/plain": [
       "'from main import Product\\nfrom dataclasses import is_dataclass\\nimport pytest\\n\\n@pytest.fixture\\ndef product():\\n    return Product(1, \\'foo\\', 1.0, 10)\\n\\ndef test_constructor(product):\\n    assert product.id == 1\\n    assert product.name == \\'foo\\'\\n    assert product.price == 1.0\\n    assert product.stock == 10\\n\\ndef test_increase_stock(product):\\n    product.increase_stock(5)\\n    assert product.stock == 15\\n\\ndef test_decrease_stock(product):\\n    product.decrease_stock(5)\\n    assert product.stock == 5\\n\\ndef test_decrease_stock_exception(product):\\n    with pytest.raises(Exception, match=\"Stock must be greater than or equal to 0\"):\\n        product.decrease_stock(20)\\n\\ndef test_increase_stock_with_zero(product):\\n    with pytest.raises(Exception, match=\"Number must be positive\"):\\n        product.increase_stock(0)\\n\\ndef test_increase_stock_with_negative_number(product):\\n    with pytest.raises(Exception, match=\"Number must be positive\"):\\n        product.increase_stock(-5)\\n\\ndef test_decrease_stock_with_zero(product):\\n    with pytest.raises(Exception, match=\"Number must be positive\"):\\n        product.decrease_stock(0)\\n\\ndef test_decrease_stock_with_negative_number(product):\\n    with pytest.raises(Exception, match=\"Number must be positive\"):\\n        product.decrease_stock(-5)\\n'"
      ]
     },
     "execution_count": 13,
     "metadata": {},
     "output_type": "execute_result"
    }
   ],
   "source": [
    "responseText = response.choices[0].message.content\n",
    "# get rid of the first 10 characters and the last 3 characters\n",
    "responseText = responseText[10:]\n",
    "responseText = responseText[:-3]\n",
    "responseText"
   ]
  },
  {
   "cell_type": "code",
   "execution_count": 14,
   "metadata": {},
   "outputs": [],
   "source": [
    "# if base_test.py already exists, delete it\n",
    "import os\n",
    "if os.path.exists('base_test.py'):\n",
    "    os.remove('base_test.py')\n",
    "# store the response in a file with name response.py\n",
    "with open('base_test.py', 'w') as f:\n",
    "    f.write(responseText)"
   ]
  },
  {
   "cell_type": "code",
   "execution_count": 15,
   "metadata": {},
   "outputs": [
    {
     "name": "stdout",
     "output_type": "stream",
     "text": [
      "\u001b[1m============================= test session starts ==============================\u001b[0m\n",
      "platform darwin -- Python 3.9.12, pytest-7.1.1, pluggy-1.0.0\n",
      "rootdir: /Users/rui/Documents/GitHub/CSE291Gcodecoverage\n",
      "plugins: anyio-3.5.0\n",
      "collected 8 items                                                              \u001b[0m\n",
      "\n",
      "base_test.py \u001b[32m.\u001b[0m\u001b[32m.\u001b[0m\u001b[32m.\u001b[0m\u001b[32m.\u001b[0m\u001b[32m.\u001b[0m\u001b[32m.\u001b[0m\u001b[32m.\u001b[0m\u001b[32m.\u001b[0m\u001b[32m                                                    [100%]\u001b[0m\n",
      "\n",
      "\u001b[32m============================== \u001b[32m\u001b[1m8 passed\u001b[0m\u001b[32m in 0.02s\u001b[0m\u001b[32m ===============================\u001b[0m\n",
      "Name           Stmts   Miss  Cover   Missing\n",
      "--------------------------------------------\n",
      "base_test.py      32      0   100%\n",
      "main.py           21      0   100%\n",
      "--------------------------------------------\n",
      "TOTAL             53      0   100%\n"
     ]
    }
   ],
   "source": [
    "!coverage run -m pytest base_test.py\n",
    "!coverage report -m"
   ]
  },
  {
   "cell_type": "markdown",
   "metadata": {},
   "source": [
    "## Baseline + Coverage"
   ]
  },
  {
   "cell_type": "code",
   "execution_count": 16,
   "metadata": {},
   "outputs": [],
   "source": [
    "from openai import OpenAI\n",
    "client = OpenAI()"
   ]
  },
  {
   "cell_type": "code",
   "execution_count": 23,
   "metadata": {},
   "outputs": [
    {
     "name": "stdout",
     "output_type": "stream",
     "text": [
      "Given the following code, test cases, and coverage report on the lines missing test coverage, generate more test cases to obtain more test coverage. Only respond with valid Python code that can be appended to the test cases.\n",
      " Code:\n",
      "from dataclasses import dataclass\n",
      "\n",
      "@dataclass()\n",
      "class Product:\n",
      "\n",
      "    id: int\n",
      "    name: str\n",
      "    price: float\n",
      "    stock: int\n",
      "\n",
      "    def increase_stock(self, stock_to_add: int):\n",
      "        self.check_positive_number(stock_to_add)\n",
      "        self.stock: int = self.stock + stock_to_add\n",
      "\n",
      "    def decrease_stock(self, stock_to_reduce):\n",
      "        self.check_positive_number(stock_to_reduce)\n",
      "        new_stock = self.stock - stock_to_reduce\n",
      "        self.check_negative_stock(new_stock)\n",
      "        self.stock = self.stock - stock_to_reduce\n",
      "\n",
      "    def check_positive_number(self, value):\n",
      "        if value <= 0:\n",
      "            raise Exception(\"Number must be positive\")\n",
      "\n",
      "    def check_negative_stock(self, value):\n",
      "        if value < 0:\n",
      "            raise Exception(\"Stock must be greater than or equal to 0\")\n",
      "\n",
      " Test Cases:\n",
      "from main import Product\n",
      "from dataclasses import is_dataclass\n",
      "import pytest\n",
      "\n",
      "def test_if_it_is_a_dataclass():\n",
      "    assert is_dataclass(Product) == True\n",
      "\n",
      "\n",
      "@pytest.fixture\n",
      "def product():\n",
      "    return Product(1, 'foo', 1.0, 10)\n",
      "\n",
      "\n",
      "def test_constructor(product):\n",
      "    assert product.id == 1\n",
      "    assert product.name == 'foo'\n",
      "    assert product.price == 1.0\n",
      "    assert product.stock == 10\n",
      "\n",
      "\n",
      "def test_increase_stock(product):\n",
      "    product.increase_stock(10)\n",
      "    assert product.stock == 20\n",
      " Missing Lines from Coverage Report:\n",
      "        self.check_positive_number(stock_to_reduce)\n",
      "        new_stock = self.stock - stock_to_reduce\n",
      "        self.check_negative_stock(new_stock)\n",
      "        self.stock = self.stock - stock_to_reduce\n",
      "            raise Exception(\"Number must be positive\")\n",
      "        if value < 0:\n",
      "            raise Exception(\"Stock must be greater than or equal to 0\")\n",
      "\n"
     ]
    }
   ],
   "source": [
    "gpt_prompt = \"Given the following code, test cases, and coverage report on the lines missing test coverage, generate more test cases to obtain more test coverage. Only respond with valid Python code that can be appended to the test cases.\\n Code:\\n\" + code_txt +\"\\n Test Cases:\\n\" + test_code_txt + \"\\n Missing Lines from Coverage Report:\\n\" + missing_lines_txt + \"\\n\"\n",
    "print(gpt_prompt)"
   ]
  },
  {
   "cell_type": "code",
   "execution_count": 24,
   "metadata": {},
   "outputs": [],
   "source": [
    "message=[{\"role\": \"system\", \"content\": \"You are a helpful programmer coding test.py. Generate only python test cases that can be appended to: \\n\"+test_code_txt},{\"role\": \"assistant\", \"content\": gpt_prompt + \"\\n\" + \"\\n\".join(code.values())}]\n",
    "\n",
    "\n",
    "response = client.chat.completions.create(\n",
    "    model=\"gpt-4o\",\n",
    "    messages = message,\n",
    ")\n",
    "# print(response.choices[0].message)\n"
   ]
  },
  {
   "cell_type": "code",
   "execution_count": 25,
   "metadata": {},
   "outputs": [
    {
     "data": {
      "text/plain": [
       "'def test_decrease_stock(product):\\n    product.decrease_stock(5)\\n    assert product.stock == 5\\n\\n    product.decrease_stock(1)\\n    assert product.stock == 4\\n\\ndef test_decrease_stock_too_much(product):\\n    with pytest.raises(Exception, match=\"Stock must be greater than or equal to 0\"):\\n        product.decrease_stock(11)\\n\\ndef test_decrease_stock_negative_value(product):\\n    with pytest.raises(Exception, match=\"Number must be positive\"):\\n        product.decrease_stock(-5)\\n\\ndef test_check_positive_number_negative_value(product):\\n    with pytest.raises(Exception, match=\"Number must be positive\"):\\n        product.check_positive_number(-1)\\n\\ndef test_check_negative_stock(product):\\n    with pytest.raises(Exception, match=\"Stock must be greater than or equal to 0\"):\\n        product.check_negative_stock(-1)\\n'"
      ]
     },
     "execution_count": 25,
     "metadata": {},
     "output_type": "execute_result"
    }
   ],
   "source": [
    "responseText = response.choices[0].message.content\n",
    "# get rid of the first 10 characters and the last 3 characters\n",
    "responseText = responseText[10:]\n",
    "responseText = responseText[:-3]\n",
    "responseText"
   ]
  },
  {
   "cell_type": "code",
   "execution_count": 26,
   "metadata": {},
   "outputs": [],
   "source": [
    "# if cov_test.py already exists, delete it\n",
    "import os\n",
    "if os.path.exists('cov_test.py'):\n",
    "    os.remove('cov_test.py')\n",
    "# copy the test_main file to cov.py\n",
    "!cp test_main.py cov_test.py\n",
    "# append the response to the cov.py file\n",
    "with open('cov_test.py', 'a') as f:\n",
    "    f.write(responseText)"
   ]
  },
  {
   "cell_type": "code",
   "execution_count": 27,
   "metadata": {},
   "outputs": [
    {
     "name": "stdout",
     "output_type": "stream",
     "text": [
      "\u001b[1m============================= test session starts ==============================\u001b[0m\n",
      "platform darwin -- Python 3.9.12, pytest-7.1.1, pluggy-1.0.0\n",
      "rootdir: /Users/rui/Documents/GitHub/CSE291Gcodecoverage\n",
      "plugins: anyio-3.5.0\n",
      "collected 8 items                                                              \u001b[0m\n",
      "\n",
      "cov_test.py \u001b[32m.\u001b[0m\u001b[32m.\u001b[0m\u001b[32m.\u001b[0m\u001b[32m.\u001b[0m\u001b[32m.\u001b[0m\u001b[32m.\u001b[0m\u001b[32m.\u001b[0m\u001b[32m.\u001b[0m\u001b[32m                                                     [100%]\u001b[0m\n",
      "\n",
      "\u001b[32m============================== \u001b[32m\u001b[1m8 passed\u001b[0m\u001b[32m in 0.02s\u001b[0m\u001b[32m ===============================\u001b[0m\n",
      "Name          Stmts   Miss  Cover   Missing\n",
      "-------------------------------------------\n",
      "cov_test.py      33      0   100%\n",
      "main.py          21      0   100%\n",
      "-------------------------------------------\n",
      "TOTAL            54      0   100%\n"
     ]
    }
   ],
   "source": [
    "!coverage run -m pytest cov_test.py\n",
    "!coverage report -m"
   ]
  },
  {
   "cell_type": "code",
   "execution_count": null,
   "metadata": {},
   "outputs": [],
   "source": []
  }
 ],
 "metadata": {
  "kernelspec": {
   "display_name": "base",
   "language": "python",
   "name": "python3"
  },
  "language_info": {
   "codemirror_mode": {
    "name": "ipython",
    "version": 3
   },
   "file_extension": ".py",
   "mimetype": "text/x-python",
   "name": "python",
   "nbconvert_exporter": "python",
   "pygments_lexer": "ipython3",
   "version": "3.9.12"
  }
 },
 "nbformat": 4,
 "nbformat_minor": 2
}
